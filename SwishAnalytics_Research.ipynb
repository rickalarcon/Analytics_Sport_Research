{
 "cells": [
  {
   "cell_type": "markdown",
   "metadata": {},
   "source": [
    "<h1><center>Swish Analytics </center></h1>\n",
    "<h1><center>Author: Rick Alarcon</center></h1>\n",
    "<h1><center>Data Analysis for All pitches from the 2011 Season</center></h1>\n"
   ]
  },
  {
   "cell_type": "markdown",
   "metadata": {},
   "source": [
    "In this project, I will analyze the dataset using data frames, plots, descriptive statistics, etc.\n",
    "Before building prediction models, it is very important to pre-process and prepare the dataset before building the model so our machine learning model will be fed with more relevant and consistent data.\n",
    "Also, if we are trying to create a forecasting model, we can use a linear regression model, while if we try to create an ML model to predict certain behavior of players or customers(classification), we can use a logistic regression approach.\n",
    "Let's start!"
   ]
  },
  {
   "cell_type": "code",
   "execution_count": 1,
   "metadata": {
    "collapsed": true
   },
   "outputs": [],
   "source": [
    "%matplotlib inline\n",
    "import pandas as pd\n",
    "import numpy as np\n",
    "import matplotlib\n",
    "from matplotlib import pyplot as plt\n",
    "from IPython.display import Image\n",
    "from IPython.core.display import HTML "
   ]
  },
  {
   "cell_type": "markdown",
   "metadata": {},
   "source": [
    "## Loading and exploring data##"
   ]
  },
  {
   "cell_type": "code",
   "execution_count": 2,
   "metadata": {},
   "outputs": [],
   "source": [
    "\n",
    "#Use panda to load the csv file as panda.dataframe\n",
    "dataset = pd.read_csv('pitches.csv',dtype={\"game_pk\": int,\"at_bat_num\":int,\"event3\":object,\"event4\":object})\n",
    "#dataset.head()"
   ]
  },
  {
   "cell_type": "code",
   "execution_count": 29,
   "metadata": {},
   "outputs": [
    {
     "data": {
      "text/plain": [
       "(718961, 125)"
      ]
     },
     "execution_count": 29,
     "metadata": {},
     "output_type": "execute_result"
    }
   ],
   "source": [
    "#Dataset numbers of columns and rows\n",
    "dataset.shape"
   ]
  },
  {
   "cell_type": "code",
   "execution_count": 30,
   "metadata": {},
   "outputs": [
    {
     "data": {
      "text/html": [
       "<div>\n",
       "<style scoped>\n",
       "    .dataframe tbody tr th:only-of-type {\n",
       "        vertical-align: middle;\n",
       "    }\n",
       "\n",
       "    .dataframe tbody tr th {\n",
       "        vertical-align: top;\n",
       "    }\n",
       "\n",
       "    .dataframe thead th {\n",
       "        text-align: right;\n",
       "    }\n",
       "</style>\n",
       "<table border=\"1\" class=\"dataframe\">\n",
       "  <thead>\n",
       "    <tr style=\"text-align: right;\">\n",
       "      <th></th>\n",
       "      <th>Pitches</th>\n",
       "    </tr>\n",
       "    <tr>\n",
       "      <th>game_pk</th>\n",
       "      <th></th>\n",
       "    </tr>\n",
       "  </thead>\n",
       "  <tbody>\n",
       "    <tr>\n",
       "      <th>286874</th>\n",
       "      <td>343</td>\n",
       "    </tr>\n",
       "    <tr>\n",
       "      <th>286875</th>\n",
       "      <td>266</td>\n",
       "    </tr>\n",
       "    <tr>\n",
       "      <th>286876</th>\n",
       "      <td>294</td>\n",
       "    </tr>\n",
       "    <tr>\n",
       "      <th>286877</th>\n",
       "      <td>302</td>\n",
       "    </tr>\n",
       "    <tr>\n",
       "      <th>286878</th>\n",
       "      <td>335</td>\n",
       "    </tr>\n",
       "  </tbody>\n",
       "</table>\n",
       "</div>"
      ],
      "text/plain": [
       "         Pitches\n",
       "game_pk         \n",
       "286874       343\n",
       "286875       266\n",
       "286876       294\n",
       "286877       302\n",
       "286878       335"
      ]
     },
     "execution_count": 30,
     "metadata": {},
     "output_type": "execute_result"
    }
   ],
   "source": [
    "#Counting the total of pitches for each different game\n",
    "df1=dataset[['game_pk','uid']].groupby('game_pk').count()\n",
    "df1.columns = ['Pitches']\n",
    "df1.head()"
   ]
  },
  {
   "cell_type": "markdown",
   "metadata": {},
   "source": [
    "## Applying Descriptive Statistics and Graphs ##"
   ]
  },
  {
   "cell_type": "code",
   "execution_count": 31,
   "metadata": {},
   "outputs": [
    {
     "data": {
      "image/png": "[encoded data removed]",
      "text/plain": [
       "<Figure size 864x648 with 1 Axes>"
      ]
     },
     "metadata": {},
     "output_type": "display_data"
    }
   ],
   "source": [
    "%matplotlib inline\n",
    "#Plot Total Pitches vs Unique Games\n",
    "df1.plot(rot=60, figsize=(12,9),color='blue')\n",
    "#bitcoin_new=df_bitcoin365days #for later\n",
    "plt.title(\"Total Pitches by Game\",fontweight='bold',size=16)\n",
    "plt.xlim(286900, 289000)\n",
    "plt.ylabel(\"Total Pitches\",size=16 )\n",
    "plt.xlabel(\"Unique Game ID\",size=16 )\n",
    "plt.show()"
   ]
  },
  {
   "cell_type": "code",
   "execution_count": 32,
   "metadata": {},
   "outputs": [
    {
     "data": {
      "text/html": [
       "<div>\n",
       "<style scoped>\n",
       "    .dataframe tbody tr th:only-of-type {\n",
       "        vertical-align: middle;\n",
       "    }\n",
       "\n",
       "    .dataframe tbody tr th {\n",
       "        vertical-align: top;\n",
       "    }\n",
       "\n",
       "    .dataframe thead th {\n",
       "        text-align: right;\n",
       "    }\n",
       "</style>\n",
       "<table border=\"1\" class=\"dataframe\">\n",
       "  <thead>\n",
       "    <tr style=\"text-align: right;\">\n",
       "      <th></th>\n",
       "      <th>uid</th>\n",
       "      <th>game_pk</th>\n",
       "      <th>year</th>\n",
       "      <th>date</th>\n",
       "      <th>team_id_b</th>\n",
       "      <th>team_id_p</th>\n",
       "      <th>inning</th>\n",
       "      <th>top</th>\n",
       "      <th>at_bat_num</th>\n",
       "      <th>pcount_at_bat</th>\n",
       "      <th>...</th>\n",
       "      <th>runner7_start</th>\n",
       "      <th>runner7_end</th>\n",
       "      <th>runner7_event</th>\n",
       "      <th>runner7_score</th>\n",
       "      <th>runner7_rbi</th>\n",
       "      <th>runner7_earned</th>\n",
       "      <th>created_at</th>\n",
       "      <th>added_at</th>\n",
       "      <th>modified_at</th>\n",
       "      <th>modified_by</th>\n",
       "    </tr>\n",
       "  </thead>\n",
       "  <tbody>\n",
       "    <tr>\n",
       "      <th>0</th>\n",
       "      <td>14143226</td>\n",
       "      <td>286874</td>\n",
       "      <td>2011</td>\n",
       "      <td>2011-03-31</td>\n",
       "      <td>108</td>\n",
       "      <td>118</td>\n",
       "      <td>1</td>\n",
       "      <td>1</td>\n",
       "      <td>1</td>\n",
       "      <td>1</td>\n",
       "      <td>...</td>\n",
       "      <td>NaN</td>\n",
       "      <td>NaN</td>\n",
       "      <td>NaN</td>\n",
       "      <td>NaN</td>\n",
       "      <td>NaN</td>\n",
       "      <td>NaN</td>\n",
       "      <td>2016-03-03 21:33:20</td>\n",
       "      <td>2016-03-03 21:33:20</td>\n",
       "      <td>2016-03-03 21:33:20</td>\n",
       "      <td>1</td>\n",
       "    </tr>\n",
       "    <tr>\n",
       "      <th>1</th>\n",
       "      <td>14143227</td>\n",
       "      <td>286874</td>\n",
       "      <td>2011</td>\n",
       "      <td>2011-03-31</td>\n",
       "      <td>108</td>\n",
       "      <td>118</td>\n",
       "      <td>1</td>\n",
       "      <td>1</td>\n",
       "      <td>1</td>\n",
       "      <td>2</td>\n",
       "      <td>...</td>\n",
       "      <td>NaN</td>\n",
       "      <td>NaN</td>\n",
       "      <td>NaN</td>\n",
       "      <td>NaN</td>\n",
       "      <td>NaN</td>\n",
       "      <td>NaN</td>\n",
       "      <td>2016-03-03 21:33:20</td>\n",
       "      <td>2016-03-03 21:33:20</td>\n",
       "      <td>2016-03-03 21:33:20</td>\n",
       "      <td>1</td>\n",
       "    </tr>\n",
       "    <tr>\n",
       "      <th>2</th>\n",
       "      <td>14143228</td>\n",
       "      <td>286874</td>\n",
       "      <td>2011</td>\n",
       "      <td>2011-03-31</td>\n",
       "      <td>108</td>\n",
       "      <td>118</td>\n",
       "      <td>1</td>\n",
       "      <td>1</td>\n",
       "      <td>1</td>\n",
       "      <td>3</td>\n",
       "      <td>...</td>\n",
       "      <td>NaN</td>\n",
       "      <td>NaN</td>\n",
       "      <td>NaN</td>\n",
       "      <td>NaN</td>\n",
       "      <td>NaN</td>\n",
       "      <td>NaN</td>\n",
       "      <td>2016-03-03 21:33:20</td>\n",
       "      <td>2016-03-03 21:33:20</td>\n",
       "      <td>2016-03-03 21:33:20</td>\n",
       "      <td>1</td>\n",
       "    </tr>\n",
       "    <tr>\n",
       "      <th>3</th>\n",
       "      <td>14143229</td>\n",
       "      <td>286874</td>\n",
       "      <td>2011</td>\n",
       "      <td>2011-03-31</td>\n",
       "      <td>108</td>\n",
       "      <td>118</td>\n",
       "      <td>1</td>\n",
       "      <td>1</td>\n",
       "      <td>1</td>\n",
       "      <td>4</td>\n",
       "      <td>...</td>\n",
       "      <td>NaN</td>\n",
       "      <td>NaN</td>\n",
       "      <td>NaN</td>\n",
       "      <td>NaN</td>\n",
       "      <td>NaN</td>\n",
       "      <td>NaN</td>\n",
       "      <td>2016-03-03 21:33:20</td>\n",
       "      <td>2016-03-03 21:33:20</td>\n",
       "      <td>2016-03-03 21:33:20</td>\n",
       "      <td>1</td>\n",
       "    </tr>\n",
       "    <tr>\n",
       "      <th>4</th>\n",
       "      <td>14143230</td>\n",
       "      <td>286874</td>\n",
       "      <td>2011</td>\n",
       "      <td>2011-03-31</td>\n",
       "      <td>108</td>\n",
       "      <td>118</td>\n",
       "      <td>1</td>\n",
       "      <td>1</td>\n",
       "      <td>2</td>\n",
       "      <td>1</td>\n",
       "      <td>...</td>\n",
       "      <td>NaN</td>\n",
       "      <td>NaN</td>\n",
       "      <td>NaN</td>\n",
       "      <td>NaN</td>\n",
       "      <td>NaN</td>\n",
       "      <td>NaN</td>\n",
       "      <td>2016-03-03 21:33:20</td>\n",
       "      <td>2016-03-03 21:33:20</td>\n",
       "      <td>2016-03-03 21:33:20</td>\n",
       "      <td>1</td>\n",
       "    </tr>\n",
       "  </tbody>\n",
       "</table>\n",
       "<p>5 rows × 125 columns</p>\n",
       "</div>"
      ],
      "text/plain": [
       "        uid  game_pk  year        date  team_id_b  team_id_p  inning  top  \\\n",
       "0  14143226   286874  2011  2011-03-31        108        118       1    1   \n",
       "1  14143227   286874  2011  2011-03-31        108        118       1    1   \n",
       "2  14143228   286874  2011  2011-03-31        108        118       1    1   \n",
       "3  14143229   286874  2011  2011-03-31        108        118       1    1   \n",
       "4  14143230   286874  2011  2011-03-31        108        118       1    1   \n",
       "\n",
       "   at_bat_num  pcount_at_bat     ...       runner7_start  runner7_end  \\\n",
       "0           1              1     ...                 NaN          NaN   \n",
       "1           1              2     ...                 NaN          NaN   \n",
       "2           1              3     ...                 NaN          NaN   \n",
       "3           1              4     ...                 NaN          NaN   \n",
       "4           2              1     ...                 NaN          NaN   \n",
       "\n",
       "   runner7_event  runner7_score  runner7_rbi  runner7_earned  \\\n",
       "0            NaN            NaN          NaN             NaN   \n",
       "1            NaN            NaN          NaN             NaN   \n",
       "2            NaN            NaN          NaN             NaN   \n",
       "3            NaN            NaN          NaN             NaN   \n",
       "4            NaN            NaN          NaN             NaN   \n",
       "\n",
       "            created_at             added_at          modified_at  modified_by  \n",
       "0  2016-03-03 21:33:20  2016-03-03 21:33:20  2016-03-03 21:33:20            1  \n",
       "1  2016-03-03 21:33:20  2016-03-03 21:33:20  2016-03-03 21:33:20            1  \n",
       "2  2016-03-03 21:33:20  2016-03-03 21:33:20  2016-03-03 21:33:20            1  \n",
       "3  2016-03-03 21:33:20  2016-03-03 21:33:20  2016-03-03 21:33:20            1  \n",
       "4  2016-03-03 21:33:20  2016-03-03 21:33:20  2016-03-03 21:33:20            1  \n",
       "\n",
       "[5 rows x 125 columns]"
      ]
     },
     "execution_count": 32,
     "metadata": {},
     "output_type": "execute_result"
    }
   ],
   "source": [
    "dataset.head()"
   ]
  },
  {
   "cell_type": "code",
   "execution_count": 33,
   "metadata": {},
   "outputs": [
    {
     "data": {
      "text/html": [
       "<div>\n",
       "<style scoped>\n",
       "    .dataframe tbody tr th:only-of-type {\n",
       "        vertical-align: middle;\n",
       "    }\n",
       "\n",
       "    .dataframe tbody tr th {\n",
       "        vertical-align: top;\n",
       "    }\n",
       "\n",
       "    .dataframe thead th {\n",
       "        text-align: right;\n",
       "    }\n",
       "</style>\n",
       "<table border=\"1\" class=\"dataframe\">\n",
       "  <thead>\n",
       "    <tr style=\"text-align: right;\">\n",
       "      <th></th>\n",
       "      <th>inning</th>\n",
       "      <th>top</th>\n",
       "    </tr>\n",
       "    <tr>\n",
       "      <th>game_pk</th>\n",
       "      <th></th>\n",
       "      <th></th>\n",
       "    </tr>\n",
       "  </thead>\n",
       "  <tbody>\n",
       "    <tr>\n",
       "      <th>286874</th>\n",
       "      <td>1819</td>\n",
       "      <td>158</td>\n",
       "    </tr>\n",
       "    <tr>\n",
       "      <th>286875</th>\n",
       "      <td>1267</td>\n",
       "      <td>115</td>\n",
       "    </tr>\n",
       "    <tr>\n",
       "      <th>286876</th>\n",
       "      <td>1324</td>\n",
       "      <td>145</td>\n",
       "    </tr>\n",
       "    <tr>\n",
       "      <th>286877</th>\n",
       "      <td>1475</td>\n",
       "      <td>145</td>\n",
       "    </tr>\n",
       "    <tr>\n",
       "      <th>286878</th>\n",
       "      <td>2013</td>\n",
       "      <td>171</td>\n",
       "    </tr>\n",
       "  </tbody>\n",
       "</table>\n",
       "</div>"
      ],
      "text/plain": [
       "         inning  top\n",
       "game_pk             \n",
       "286874     1819  158\n",
       "286875     1267  115\n",
       "286876     1324  145\n",
       "286877     1475  145\n",
       "286878     2013  171"
      ]
     },
     "execution_count": 33,
     "metadata": {},
     "output_type": "execute_result"
    }
   ],
   "source": [
    "#Total numbers of inning and tops by game\n",
    "dataset[['game_pk','inning','top']].groupby('game_pk').sum().head()"
   ]
  },
  {
   "cell_type": "code",
   "execution_count": 34,
   "metadata": {},
   "outputs": [
    {
     "data": {
      "text/html": [
       "<div>\n",
       "<style scoped>\n",
       "    .dataframe tbody tr th:only-of-type {\n",
       "        vertical-align: middle;\n",
       "    }\n",
       "\n",
       "    .dataframe tbody tr th {\n",
       "        vertical-align: top;\n",
       "    }\n",
       "\n",
       "    .dataframe thead th {\n",
       "        text-align: right;\n",
       "    }\n",
       "</style>\n",
       "<table border=\"1\" class=\"dataframe\">\n",
       "  <thead>\n",
       "    <tr style=\"text-align: right;\">\n",
       "      <th></th>\n",
       "      <th>inning</th>\n",
       "      <th>top</th>\n",
       "    </tr>\n",
       "  </thead>\n",
       "  <tbody>\n",
       "    <tr>\n",
       "      <th>count</th>\n",
       "      <td>5.000000</td>\n",
       "      <td>5.00000</td>\n",
       "    </tr>\n",
       "    <tr>\n",
       "      <th>mean</th>\n",
       "      <td>1579.600000</td>\n",
       "      <td>146.80000</td>\n",
       "    </tr>\n",
       "    <tr>\n",
       "      <th>std</th>\n",
       "      <td>323.704804</td>\n",
       "      <td>20.78942</td>\n",
       "    </tr>\n",
       "    <tr>\n",
       "      <th>min</th>\n",
       "      <td>1267.000000</td>\n",
       "      <td>115.00000</td>\n",
       "    </tr>\n",
       "    <tr>\n",
       "      <th>25%</th>\n",
       "      <td>1324.000000</td>\n",
       "      <td>145.00000</td>\n",
       "    </tr>\n",
       "    <tr>\n",
       "      <th>50%</th>\n",
       "      <td>1475.000000</td>\n",
       "      <td>145.00000</td>\n",
       "    </tr>\n",
       "    <tr>\n",
       "      <th>75%</th>\n",
       "      <td>1819.000000</td>\n",
       "      <td>158.00000</td>\n",
       "    </tr>\n",
       "    <tr>\n",
       "      <th>max</th>\n",
       "      <td>2013.000000</td>\n",
       "      <td>171.00000</td>\n",
       "    </tr>\n",
       "  </tbody>\n",
       "</table>\n",
       "</div>"
      ],
      "text/plain": [
       "            inning        top\n",
       "count     5.000000    5.00000\n",
       "mean   1579.600000  146.80000\n",
       "std     323.704804   20.78942\n",
       "min    1267.000000  115.00000\n",
       "25%    1324.000000  145.00000\n",
       "50%    1475.000000  145.00000\n",
       "75%    1819.000000  158.00000\n",
       "max    2013.000000  171.00000"
      ]
     },
     "execution_count": 34,
     "metadata": {},
     "output_type": "execute_result"
    }
   ],
   "source": [
    "#Descriptive Statistics for Inning and Tops\n",
    "df2=dataset[['game_pk','inning','top']].groupby('game_pk').sum().head()\n",
    "df2.describe()"
   ]
  },
  {
   "cell_type": "code",
   "execution_count": 35,
   "metadata": {},
   "outputs": [
    {
     "data": {
      "image/png": "[encoded data removed]",
      "text/plain": [
       "<Figure size 504x360 with 1 Axes>"
      ]
     },
     "metadata": {},
     "output_type": "display_data"
    }
   ],
   "source": [
    "df2.boxplot(figsize=(7,5),patch_artist=True)\n",
    "plt.ylabel('Quantity')\n",
    "#Make the figue prettier\n",
    "plt.title('Boxplot', y=1.03, fontsize=17, weight='bold')\n",
    "plt.show()"
   ]
  },
  {
   "cell_type": "markdown",
   "metadata": {},
   "source": [
    "### Analysing the balls, strikes, fouls and outs for the 2011 Season"
   ]
  },
  {
   "cell_type": "code",
   "execution_count": 36,
   "metadata": {},
   "outputs": [
    {
     "data": {
      "text/html": [
       "<div>\n",
       "<style scoped>\n",
       "    .dataframe tbody tr th:only-of-type {\n",
       "        vertical-align: middle;\n",
       "    }\n",
       "\n",
       "    .dataframe tbody tr th {\n",
       "        vertical-align: top;\n",
       "    }\n",
       "\n",
       "    .dataframe thead th {\n",
       "        text-align: right;\n",
       "    }\n",
       "</style>\n",
       "<table border=\"1\" class=\"dataframe\">\n",
       "  <thead>\n",
       "    <tr style=\"text-align: right;\">\n",
       "      <th></th>\n",
       "      <th>balls</th>\n",
       "      <th>strikes</th>\n",
       "      <th>fouls</th>\n",
       "      <th>outs</th>\n",
       "    </tr>\n",
       "    <tr>\n",
       "      <th>game_pk</th>\n",
       "      <th></th>\n",
       "      <th></th>\n",
       "      <th></th>\n",
       "      <th></th>\n",
       "    </tr>\n",
       "  </thead>\n",
       "  <tbody>\n",
       "    <tr>\n",
       "      <th>286874</th>\n",
       "      <td>321</td>\n",
       "      <td>332</td>\n",
       "      <td>172</td>\n",
       "      <td>374</td>\n",
       "    </tr>\n",
       "    <tr>\n",
       "      <th>286875</th>\n",
       "      <td>263</td>\n",
       "      <td>233</td>\n",
       "      <td>90</td>\n",
       "      <td>274</td>\n",
       "    </tr>\n",
       "    <tr>\n",
       "      <th>286876</th>\n",
       "      <td>293</td>\n",
       "      <td>255</td>\n",
       "      <td>90</td>\n",
       "      <td>267</td>\n",
       "    </tr>\n",
       "    <tr>\n",
       "      <th>286877</th>\n",
       "      <td>249</td>\n",
       "      <td>259</td>\n",
       "      <td>107</td>\n",
       "      <td>308</td>\n",
       "    </tr>\n",
       "    <tr>\n",
       "      <th>286878</th>\n",
       "      <td>312</td>\n",
       "      <td>275</td>\n",
       "      <td>153</td>\n",
       "      <td>333</td>\n",
       "    </tr>\n",
       "  </tbody>\n",
       "</table>\n",
       "</div>"
      ],
      "text/plain": [
       "         balls  strikes  fouls  outs\n",
       "game_pk                             \n",
       "286874     321      332    172   374\n",
       "286875     263      233     90   274\n",
       "286876     293      255     90   267\n",
       "286877     249      259    107   308\n",
       "286878     312      275    153   333"
      ]
     },
     "execution_count": 36,
     "metadata": {},
     "output_type": "execute_result"
    }
   ],
   "source": [
    "#Totals for each different baseball game in the 2011 season\n",
    "dataset[['game_pk','balls','strikes','fouls','outs']].groupby('game_pk').sum().head()"
   ]
  },
  {
   "cell_type": "code",
   "execution_count": 37,
   "metadata": {},
   "outputs": [
    {
     "data": {
      "text/html": [
       "<div>\n",
       "<style scoped>\n",
       "    .dataframe tbody tr th:only-of-type {\n",
       "        vertical-align: middle;\n",
       "    }\n",
       "\n",
       "    .dataframe tbody tr th {\n",
       "        vertical-align: top;\n",
       "    }\n",
       "\n",
       "    .dataframe thead th {\n",
       "        text-align: right;\n",
       "    }\n",
       "</style>\n",
       "<table border=\"1\" class=\"dataframe\">\n",
       "  <thead>\n",
       "    <tr style=\"text-align: right;\">\n",
       "      <th></th>\n",
       "      <th>balls</th>\n",
       "      <th>strikes</th>\n",
       "      <th>fouls</th>\n",
       "      <th>outs</th>\n",
       "    </tr>\n",
       "  </thead>\n",
       "  <tbody>\n",
       "    <tr>\n",
       "      <th>count</th>\n",
       "      <td>2467.000000</td>\n",
       "      <td>2467.000000</td>\n",
       "      <td>2467.00000</td>\n",
       "      <td>2467.000000</td>\n",
       "    </tr>\n",
       "    <tr>\n",
       "      <th>mean</th>\n",
       "      <td>256.889745</td>\n",
       "      <td>249.822862</td>\n",
       "      <td>117.50831</td>\n",
       "      <td>284.198216</td>\n",
       "    </tr>\n",
       "    <tr>\n",
       "      <th>std</th>\n",
       "      <td>50.034692</td>\n",
       "      <td>41.045588</td>\n",
       "      <td>31.79387</td>\n",
       "      <td>46.722629</td>\n",
       "    </tr>\n",
       "    <tr>\n",
       "      <th>min</th>\n",
       "      <td>108.000000</td>\n",
       "      <td>125.000000</td>\n",
       "      <td>37.00000</td>\n",
       "      <td>172.000000</td>\n",
       "    </tr>\n",
       "    <tr>\n",
       "      <th>25%</th>\n",
       "      <td>223.000000</td>\n",
       "      <td>223.000000</td>\n",
       "      <td>95.00000</td>\n",
       "      <td>252.000000</td>\n",
       "    </tr>\n",
       "    <tr>\n",
       "      <th>50%</th>\n",
       "      <td>254.000000</td>\n",
       "      <td>246.000000</td>\n",
       "      <td>114.00000</td>\n",
       "      <td>279.000000</td>\n",
       "    </tr>\n",
       "    <tr>\n",
       "      <th>75%</th>\n",
       "      <td>286.000000</td>\n",
       "      <td>272.000000</td>\n",
       "      <td>137.00000</td>\n",
       "      <td>311.000000</td>\n",
       "    </tr>\n",
       "    <tr>\n",
       "      <th>max</th>\n",
       "      <td>546.000000</td>\n",
       "      <td>535.000000</td>\n",
       "      <td>324.00000</td>\n",
       "      <td>590.000000</td>\n",
       "    </tr>\n",
       "  </tbody>\n",
       "</table>\n",
       "</div>"
      ],
      "text/plain": [
       "             balls      strikes       fouls         outs\n",
       "count  2467.000000  2467.000000  2467.00000  2467.000000\n",
       "mean    256.889745   249.822862   117.50831   284.198216\n",
       "std      50.034692    41.045588    31.79387    46.722629\n",
       "min     108.000000   125.000000    37.00000   172.000000\n",
       "25%     223.000000   223.000000    95.00000   252.000000\n",
       "50%     254.000000   246.000000   114.00000   279.000000\n",
       "75%     286.000000   272.000000   137.00000   311.000000\n",
       "max     546.000000   535.000000   324.00000   590.000000"
      ]
     },
     "execution_count": 37,
     "metadata": {},
     "output_type": "execute_result"
    }
   ],
   "source": [
    "#Statistics for the balls, strikes, fould and outs \n",
    "dataset[['game_pk','balls','strikes','fouls','outs']].groupby('game_pk').sum().describe()"
   ]
  },
  {
   "cell_type": "code",
   "execution_count": 38,
   "metadata": {},
   "outputs": [
    {
     "data": {
      "image/png": "[encoded data removed]",
      "text/plain": [
       "<Figure size 720x720 with 1 Axes>"
      ]
     },
     "metadata": {},
     "output_type": "display_data"
    }
   ],
   "source": [
    "#Pie chart with the percentage distributtion\n",
    "df3=dataset[['balls','strikes','fouls','outs']].sum()\n",
    "df3=pd.DataFrame(df3)\n",
    "df3.plot.pie(subplots='TRUE',figsize=(10,10),shadow=True,autopct='%0.f%%', fontsize=15 )\n",
    "plt.title('2011 Season, Totals',weight='bold',fontsize=15)\n",
    "plt.show()"
   ]
  },
  {
   "cell_type": "markdown",
   "metadata": {},
   "source": [
    "### Batter vs Pitchers Distribution and Number of Games Played"
   ]
  },
  {
   "cell_type": "code",
   "execution_count": 39,
   "metadata": {},
   "outputs": [
    {
     "data": {
      "text/plain": [
       "(718961, 2)"
      ]
     },
     "execution_count": 39,
     "metadata": {},
     "output_type": "execute_result"
    }
   ],
   "source": [
    "#GETTING THE PLAYERS ID FOR THE 2011 SEASON\n",
    "df4=dataset[['batter_id','pitcher_id']]\n",
    "df4.shape"
   ]
  },
  {
   "cell_type": "code",
   "execution_count": 40,
   "metadata": {},
   "outputs": [
    {
     "data": {
      "text/html": [
       "<div>\n",
       "<style scoped>\n",
       "    .dataframe tbody tr th:only-of-type {\n",
       "        vertical-align: middle;\n",
       "    }\n",
       "\n",
       "    .dataframe tbody tr th {\n",
       "        vertical-align: top;\n",
       "    }\n",
       "\n",
       "    .dataframe thead th {\n",
       "        text-align: right;\n",
       "    }\n",
       "</style>\n",
       "<table border=\"1\" class=\"dataframe\">\n",
       "  <thead>\n",
       "    <tr style=\"text-align: right;\">\n",
       "      <th></th>\n",
       "      <th>batter_id</th>\n",
       "      <th>pitcher_id</th>\n",
       "    </tr>\n",
       "  </thead>\n",
       "  <tbody>\n",
       "    <tr>\n",
       "      <th>0</th>\n",
       "      <td>430895</td>\n",
       "      <td>460024</td>\n",
       "    </tr>\n",
       "    <tr>\n",
       "      <th>1</th>\n",
       "      <td>430895</td>\n",
       "      <td>460024</td>\n",
       "    </tr>\n",
       "    <tr>\n",
       "      <th>2</th>\n",
       "      <td>430895</td>\n",
       "      <td>460024</td>\n",
       "    </tr>\n",
       "    <tr>\n",
       "      <th>3</th>\n",
       "      <td>430895</td>\n",
       "      <td>460024</td>\n",
       "    </tr>\n",
       "    <tr>\n",
       "      <th>4</th>\n",
       "      <td>435062</td>\n",
       "      <td>460024</td>\n",
       "    </tr>\n",
       "  </tbody>\n",
       "</table>\n",
       "</div>"
      ],
      "text/plain": [
       "   batter_id  pitcher_id\n",
       "0     430895      460024\n",
       "1     430895      460024\n",
       "2     430895      460024\n",
       "3     430895      460024\n",
       "4     435062      460024"
      ]
     },
     "execution_count": 40,
     "metadata": {},
     "output_type": "execute_result"
    }
   ],
   "source": [
    "df4.head()"
   ]
  },
  {
   "cell_type": "code",
   "execution_count": 41,
   "metadata": {},
   "outputs": [
    {
     "data": {
      "text/html": [
       "<div>\n",
       "<style scoped>\n",
       "    .dataframe tbody tr th:only-of-type {\n",
       "        vertical-align: middle;\n",
       "    }\n",
       "\n",
       "    .dataframe tbody tr th {\n",
       "        vertical-align: top;\n",
       "    }\n",
       "\n",
       "    .dataframe thead th {\n",
       "        text-align: right;\n",
       "    }\n",
       "</style>\n",
       "<table border=\"1\" class=\"dataframe\">\n",
       "  <thead>\n",
       "    <tr style=\"text-align: right;\">\n",
       "      <th></th>\n",
       "      <th>batter_id</th>\n",
       "      <th>Games</th>\n",
       "    </tr>\n",
       "  </thead>\n",
       "  <tbody>\n",
       "    <tr>\n",
       "      <th>0</th>\n",
       "      <td>110029</td>\n",
       "      <td>2549</td>\n",
       "    </tr>\n",
       "    <tr>\n",
       "      <th>1</th>\n",
       "      <td>110683</td>\n",
       "      <td>26</td>\n",
       "    </tr>\n",
       "    <tr>\n",
       "      <th>2</th>\n",
       "      <td>111072</td>\n",
       "      <td>413</td>\n",
       "    </tr>\n",
       "    <tr>\n",
       "      <th>3</th>\n",
       "      <td>111851</td>\n",
       "      <td>1554</td>\n",
       "    </tr>\n",
       "    <tr>\n",
       "      <th>4</th>\n",
       "      <td>111867</td>\n",
       "      <td>1015</td>\n",
       "    </tr>\n",
       "  </tbody>\n",
       "</table>\n",
       "</div>"
      ],
      "text/plain": [
       "   batter_id  Games\n",
       "0     110029   2549\n",
       "1     110683     26\n",
       "2     111072    413\n",
       "3     111851   1554\n",
       "4     111867   1015"
      ]
     },
     "execution_count": 41,
     "metadata": {},
     "output_type": "execute_result"
    }
   ],
   "source": [
    "#Total number of games each batter played on the 2011 baseball season\n",
    "df4.groupby('batter_id').size().reset_index(name='Count').rename(columns={'Count':'Games'}).head()"
   ]
  },
  {
   "cell_type": "code",
   "execution_count": 42,
   "metadata": {},
   "outputs": [
    {
     "data": {
      "text/html": [
       "<div>\n",
       "<style scoped>\n",
       "    .dataframe tbody tr th:only-of-type {\n",
       "        vertical-align: middle;\n",
       "    }\n",
       "\n",
       "    .dataframe tbody tr th {\n",
       "        vertical-align: top;\n",
       "    }\n",
       "\n",
       "    .dataframe thead th {\n",
       "        text-align: right;\n",
       "    }\n",
       "</style>\n",
       "<table border=\"1\" class=\"dataframe\">\n",
       "  <thead>\n",
       "    <tr style=\"text-align: right;\">\n",
       "      <th></th>\n",
       "      <th>batter_id</th>\n",
       "      <th>Games</th>\n",
       "    </tr>\n",
       "  </thead>\n",
       "  <tbody>\n",
       "    <tr>\n",
       "      <th>332</th>\n",
       "      <td>434158</td>\n",
       "      <td>3186</td>\n",
       "    </tr>\n",
       "    <tr>\n",
       "      <th>365</th>\n",
       "      <td>435079</td>\n",
       "      <td>3177</td>\n",
       "    </tr>\n",
       "    <tr>\n",
       "      <th>563</th>\n",
       "      <td>456030</td>\n",
       "      <td>3077</td>\n",
       "    </tr>\n",
       "    <tr>\n",
       "      <th>188</th>\n",
       "      <td>407893</td>\n",
       "      <td>2907</td>\n",
       "    </tr>\n",
       "    <tr>\n",
       "      <th>611</th>\n",
       "      <td>458015</td>\n",
       "      <td>2888</td>\n",
       "    </tr>\n",
       "  </tbody>\n",
       "</table>\n",
       "</div>"
      ],
      "text/plain": [
       "     batter_id  Games\n",
       "332     434158   3186\n",
       "365     435079   3177\n",
       "563     456030   3077\n",
       "188     407893   2907\n",
       "611     458015   2888"
      ]
     },
     "execution_count": 42,
     "metadata": {},
     "output_type": "execute_result"
    }
   ],
   "source": [
    "# TOP BATTER PLAYERS WHO PLAYED THE MOST ON THE 2011 SEASON\n",
    "df5=df4.groupby('batter_id').size().reset_index(name='Count').rename(columns={'Count':'Games'})\n",
    "df5.sort_values(['Games'], ascending=[False]).head()\n"
   ]
  },
  {
   "cell_type": "code",
   "execution_count": 43,
   "metadata": {},
   "outputs": [
    {
     "data": {
      "image/png": "[encoded data removed]",
      "text/plain": [
       "<Figure size 576x432 with 1 Axes>"
      ]
     },
     "metadata": {},
     "output_type": "display_data"
    }
   ],
   "source": [
    "#TOP 5 BATTERS PLAYERS\n",
    "top5batters=df5.sort_values(['Games'], ascending=[False]).head()\n",
    "top5batters.plot.bar(y='Games',x='batter_id', figsize=(8,6), fontsize=15, rot=30)\n",
    "plt.title('TOP 5 Batters', fontsize=15)\n",
    "plt.show()"
   ]
  },
  {
   "cell_type": "code",
   "execution_count": 44,
   "metadata": {},
   "outputs": [
    {
     "data": {
      "text/html": [
       "<div>\n",
       "<style scoped>\n",
       "    .dataframe tbody tr th:only-of-type {\n",
       "        vertical-align: middle;\n",
       "    }\n",
       "\n",
       "    .dataframe tbody tr th {\n",
       "        vertical-align: top;\n",
       "    }\n",
       "\n",
       "    .dataframe thead th {\n",
       "        text-align: right;\n",
       "    }\n",
       "</style>\n",
       "<table border=\"1\" class=\"dataframe\">\n",
       "  <thead>\n",
       "    <tr style=\"text-align: right;\">\n",
       "      <th></th>\n",
       "      <th>pitcher_id</th>\n",
       "      <th>Games</th>\n",
       "    </tr>\n",
       "  </thead>\n",
       "  <tbody>\n",
       "    <tr>\n",
       "      <th>0</th>\n",
       "      <td>110683</td>\n",
       "      <td>981</td>\n",
       "    </tr>\n",
       "    <tr>\n",
       "      <th>1</th>\n",
       "      <td>112020</td>\n",
       "      <td>4155</td>\n",
       "    </tr>\n",
       "    <tr>\n",
       "      <th>2</th>\n",
       "      <td>112526</td>\n",
       "      <td>2542</td>\n",
       "    </tr>\n",
       "    <tr>\n",
       "      <th>3</th>\n",
       "      <td>115629</td>\n",
       "      <td>810</td>\n",
       "    </tr>\n",
       "    <tr>\n",
       "      <th>4</th>\n",
       "      <td>115817</td>\n",
       "      <td>2688</td>\n",
       "    </tr>\n",
       "  </tbody>\n",
       "</table>\n",
       "</div>"
      ],
      "text/plain": [
       "   pitcher_id  Games\n",
       "0      110683    981\n",
       "1      112020   4155\n",
       "2      112526   2542\n",
       "3      115629    810\n",
       "4      115817   2688"
      ]
     },
     "execution_count": 44,
     "metadata": {},
     "output_type": "execute_result"
    }
   ],
   "source": [
    "#TOTAL NUMBER OF GAMES PLAYED BY EACH PITCHER ON THE 2011 BASECALL SEASON\n",
    "df4.groupby('pitcher_id').size().reset_index(name='Count').rename(columns={'Count':'Games'}).head()"
   ]
  },
  {
   "cell_type": "code",
   "execution_count": 45,
   "metadata": {},
   "outputs": [
    {
     "data": {
      "text/html": [
       "<div>\n",
       "<style scoped>\n",
       "    .dataframe tbody tr th:only-of-type {\n",
       "        vertical-align: middle;\n",
       "    }\n",
       "\n",
       "    .dataframe tbody tr th {\n",
       "        vertical-align: top;\n",
       "    }\n",
       "\n",
       "    .dataframe thead th {\n",
       "        text-align: right;\n",
       "    }\n",
       "</style>\n",
       "<table border=\"1\" class=\"dataframe\">\n",
       "  <thead>\n",
       "    <tr style=\"text-align: right;\">\n",
       "      <th></th>\n",
       "      <th>pitcher_id</th>\n",
       "      <th>Games</th>\n",
       "    </tr>\n",
       "  </thead>\n",
       "  <tbody>\n",
       "    <tr>\n",
       "      <th>179</th>\n",
       "      <td>434378</td>\n",
       "      <td>4301</td>\n",
       "    </tr>\n",
       "    <tr>\n",
       "      <th>1</th>\n",
       "      <td>112020</td>\n",
       "      <td>4155</td>\n",
       "    </tr>\n",
       "    <tr>\n",
       "      <th>289</th>\n",
       "      <td>450351</td>\n",
       "      <td>4118</td>\n",
       "    </tr>\n",
       "    <tr>\n",
       "      <th>352</th>\n",
       "      <td>456034</td>\n",
       "      <td>3798</td>\n",
       "    </tr>\n",
       "    <tr>\n",
       "      <th>301</th>\n",
       "      <td>451596</td>\n",
       "      <td>3775</td>\n",
       "    </tr>\n",
       "  </tbody>\n",
       "</table>\n",
       "</div>"
      ],
      "text/plain": [
       "     pitcher_id  Games\n",
       "179      434378   4301\n",
       "1        112020   4155\n",
       "289      450351   4118\n",
       "352      456034   3798\n",
       "301      451596   3775"
      ]
     },
     "execution_count": 45,
     "metadata": {},
     "output_type": "execute_result"
    }
   ],
   "source": [
    "#TOP PITCHERS WHO PLAYED THE MOST IN THE 2011 SEASON\n",
    "df6=df4.groupby('pitcher_id').size().reset_index(name='Count').rename(columns={'Count':'Games'})\n",
    "df6.sort_values(['Games'], ascending=[False]).head()"
   ]
  },
  {
   "cell_type": "code",
   "execution_count": 46,
   "metadata": {},
   "outputs": [
    {
     "data": {
      "image/png": "[encoded data removed]",
      "text/plain": [
       "<Figure size 576x432 with 1 Axes>"
      ]
     },
     "metadata": {},
     "output_type": "display_data"
    }
   ],
   "source": [
    "#TOP 5 PITCHERS PLAYERS\n",
    "top5pitchers=df6.sort_values(['Games'], ascending=[False]).head()\n",
    "top5pitchers.plot.bar(y='Games',x='pitcher_id', figsize=(8,6), fontsize=15, rot=30)\n",
    "plt.title('TOP 5 Pitchers', fontsize=15)\n",
    "plt.show()"
   ]
  },
  {
   "cell_type": "markdown",
   "metadata": {},
   "source": [
    "## Recap of machine learning concepts: ##\n",
    "An intance: is the whole data we are analysing\n",
    "\n",
    "the label: is the column we are trying to predict\n",
    "\n",
    "the features: are all the others columns different than the label column\n",
    "\n",
    "(I used Bigquery before which uses feature enginerring to explore, clean and\n",
    "preprocess the data, before input it in the ML model).\n",
    "\n",
    "Note:\n",
    "Features must be:\n",
    "\n",
    "-related to the objetive\n",
    "\n",
    "-numeric with meaningful magnitude\n",
    "\n",
    "-have good quantity of examples to test\n",
    "\n",
    "-help us to bring insights to the problems\n",
    "\n",
    "## Steps to build a Machine Learning Model: ##\n",
    "1)Identify your goals\n",
    "\n",
    "2)Establich benchmark(it is the tolerance of error for our model prediction)\n",
    "\n",
    "3)Onces you have your Clean Dataset\n",
    "\n",
    "4)Split that data into Training and validations datasets\n",
    "\n",
    "5)Check the loss metrics(in linear regression we uses MSE or RMSE)\n",
    "\n",
    "(this is a way to measure success too because we are trying to minimim errors)\n",
    "\n",
    "6)If you need to retrain it, split it into: train, validation and test datasets\n",
    "\n",
    "Note:\n",
    "\n",
    "Feature Engineering is often the hardest part of the Machine learning models\n",
    "\n",
    "(but this lead us to better prediction models and analysis)\n",
    "\n",
    "-we can Preprocess features by: exploring, Joining tables, creating new train/test tables\n"
   ]
  },
  {
   "cell_type": "markdown",
   "metadata": {},
   "source": [
    "### Knowing all the steps already mentioned above : ###\n",
    "    \n",
    "We can try to predict the probability the X pitcher will do a strike, etc. we can analyze historical data\n",
    "\n",
    "for example of how was the performance for that pitcher in different games and create a model using the \n",
    "\n",
    "above steps to help us predict the probability that the pitcher will do y performance in X real-time environment"
   ]
  },
  {
   "cell_type": "markdown",
   "metadata": {},
   "source": [
    "<img src=\"https://upload.wikimedia.org/wikipedia/fr/d/df/Ligue_majeure_de_Baseball.png\" width=\"500\">\n"
   ]
  }
 ],
 "metadata": {
  "kernelspec": {
   "display_name": "Python 3",
   "language": "python",
   "name": "python3"
  },
  "language_info": {
   "codemirror_mode": {
    "name": "ipython",
    "version": 3
   },
   "file_extension": ".py",
   "mimetype": "text/x-python",
   "name": "python",
   "nbconvert_exporter": "python",
   "pygments_lexer": "ipython3",
   "version": "3.6.4"
  }
 },
 "nbformat": 4,
 "nbformat_minor": 2
}
